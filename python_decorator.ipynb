{
 "metadata": {
  "language_info": {
   "codemirror_mode": {
    "name": "ipython",
    "version": 3
   },
   "file_extension": ".py",
   "mimetype": "text/x-python",
   "name": "python",
   "nbconvert_exporter": "python",
   "pygments_lexer": "ipython3",
   "version": "3.7.7-final"
  },
  "orig_nbformat": 2,
  "kernelspec": {
   "name": "python3",
   "display_name": "Python 3"
  }
 },
 "nbformat": 4,
 "nbformat_minor": 2,
 "cells": [
  {
   "cell_type": "markdown",
   "metadata": {},
   "source": [
    "### To learn the decorator in python"
   ]
  },
  {
   "cell_type": "code",
   "execution_count": 1,
   "metadata": {
    "tags": []
   },
   "outputs": [
    {
     "output_type": "stream",
     "name": "stdout",
     "text": "hello\n girl!\nthe runtime is : -1.005344 msecs\n"
    }
   ],
   "source": [
    "import time\n",
    "def deco(func):\n",
    "    def wrapper():\n",
    "        start_time = time.time()\n",
    "        func()\n",
    "        end_time = time.time()\n",
    "        msecs = start_time - end_time\n",
    "        print(\"the runtime is : {:2f} msecs\".format(msecs))\n",
    "    return wrapper\n",
    "\n",
    "@deco\n",
    "def say_hello():\n",
    "    print(\"hello\")\n",
    "    time.sleep(1)\n",
    "    print(\" girl!\")\n",
    "\n",
    "say_hello()"
   ]
  },
  {
   "cell_type": "markdown",
   "metadata": {},
   "source": [
    "#### Multi decorator"
   ]
  },
  {
   "cell_type": "code",
   "execution_count": 2,
   "metadata": {
    "tags": []
   },
   "outputs": [
    {
     "output_type": "stream",
     "name": "stdout",
     "text": "this is deco01\nthis is deco02\nhello，here is a func for add :\nresult is 30\ndeco02 end here\ntime is 1004 ms\ndeco01 end here\n"
    }
   ],
   "source": [
    "def deco01(func):\n",
    "    def wrapper(*args, **kwargs):\n",
    "        print(\"this is deco01\")\n",
    "        startTime = time.time()\n",
    "        func(*args, **kwargs)\n",
    "        endTime = time.time()\n",
    "        msecs = (endTime - startTime)*1000\n",
    "        print(\"time is %d ms\" %msecs)\n",
    "        print(\"deco01 end here\")\n",
    "    return wrapper\n",
    "\n",
    "def deco02(func):\n",
    "    def wrapper(*args, **kwargs):\n",
    "        print(\"this is deco02\")\n",
    "        func(*args, **kwargs)\n",
    "        print(\"deco02 end here\")\n",
    "    return wrapper\n",
    "\n",
    "@deco01\n",
    "@deco02\n",
    "def func(a,b):\n",
    "    print(\"hello，here is a func for add :\")\n",
    "    time.sleep(1)\n",
    "    print(\"result is %d\" %(a+b))\n",
    "\n",
    "func(10, 20)"
   ]
  },
  {
   "cell_type": "code",
   "execution_count": null,
   "metadata": {},
   "outputs": [],
   "source": []
  }
 ]
}