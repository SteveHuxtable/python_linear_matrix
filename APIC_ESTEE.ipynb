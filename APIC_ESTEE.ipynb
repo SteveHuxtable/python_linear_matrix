{
 "cells": [
  {
   "cell_type": "code",
   "execution_count": null,
   "metadata": {},
   "outputs": [],
   "source": [
    "import numpy as np\n",
    "import pandas as pd\n",
    "import matplotlib.pyplot as plt\n",
    "\n",
    "from sklearn import svm"
   ]
  },
  {
   "cell_type": "markdown",
   "metadata": {},
   "source": [
    "#### Read the dataset"
   ]
  },
  {
   "cell_type": "code",
   "execution_count": null,
   "metadata": {},
   "outputs": [],
   "source": [
    "df = pd.read_csv('APIC_ESTEE_LDA_SVM.csv')\n",
    "df.dtypes"
   ]
  },
  {
   "cell_type": "code",
   "execution_count": null,
   "metadata": {},
   "outputs": [],
   "source": [
    "# df.columns"
   ]
  },
  {
   "cell_type": "code",
   "execution_count": null,
   "metadata": {},
   "outputs": [],
   "source": [
    "# select the features and outcomes for further analyses\n",
    "\n",
    "module1_df = df.loc[:, ['PM2.5_group', 'BC_group', 'mcp_1', 'leptin', 'PAI_1', 'TNFa']]\n",
    "module1_df.columns = ['PM2.5_Group', 'BC_group', 'MCP_1', 'leptin', 'PAI_1', 'TNF_a']\n",
    "\n",
    "module1_data = module1_df.loc[:, ['MCP_1', 'leptin', 'PAI_1', 'TNF_a']]\n",
    "module1_target = module1_df.loc[:, ['PM2.5_Group']]"
   ]
  },
  {
   "cell_type": "code",
   "execution_count": null,
   "metadata": {},
   "outputs": [],
   "source": [
    "# standarlize the module1_data\n",
    "def standarlize (arr):\n",
    "    arr_mean = np.mean(arr)\n",
    "    arr_sd = np.std(arr)\n",
    "    return (arr - arr_mean) / arr_sd\n",
    "\n",
    "# test_arr = np.array([1, 2, 3, 4, 5])\n",
    "# standarlize(test_arr)\n",
    "\n",
    "module1_data = module1_data.apply(standarlize, axis=0)\n",
    "module1_data.head()"
   ]
  },
  {
   "cell_type": "markdown",
   "metadata": {},
   "source": [
    "#### Try to SVM on module1_df: 10-fold cross-validation"
   ]
  },
  {
   "cell_type": "code",
   "execution_count": null,
   "metadata": {},
   "outputs": [],
   "source": [
    "from sklearn.model_selection import train_test_split\n",
    "\n",
    "module1_data_train, module1_data_validate, module1_target_train, module1_target_test = train_test_split(module1_data, module1_target, test_size=0.4, random_state=0)"
   ]
  },
  {
   "cell_type": "code",
   "execution_count": null,
   "metadata": {
    "tags": []
   },
   "outputs": [],
   "source": [
    "print(module1_data_train.shape, \"  \", module1_target_train.shape)\n",
    "print(module1_data_validate.shape, \"  \", module1_target_test.shape)"
   ]
  },
  {
   "cell_type": "code",
   "execution_count": null,
   "metadata": {},
   "outputs": [],
   "source": [
    "# help(svm.SVC)\n",
    "# AND fit SVM with linear kernel\n",
    "\n",
    "# apic_svm = svm.SVC(kernel='linear', C=1).fit(module1_data_train, module1_target_train)\n",
    "# apic_svm.score(module1_data_validate, module1_target_test)\n",
    "# score : 0.61\n",
    "\n",
    "# we may change the kernel\n",
    "apic_svm = svm.SVC(kernel='sigmoid', C=1).fit(module1_data_train, np.ravel(module1_target_train))\n",
    "apic_svm.score(module1_data_validate, np.ravel(module1_target_test))"
   ]
  },
  {
   "cell_type": "code",
   "execution_count": null,
   "metadata": {
    "tags": []
   },
   "outputs": [],
   "source": [
    "from sklearn.model_selection import cross_val_score\n",
    "\n",
    "apic_svm = svm.SVC(kernel='poly', C=1)\n",
    "scores = cross_val_score(apic_svm, module1_data, np.ravel(module1_target), cv=5, scoring='roc_auc')\n",
    "print(\"Scores: \", scores)"
   ]
  },
  {
   "cell_type": "code",
   "execution_count": null,
   "metadata": {
    "tags": []
   },
   "outputs": [],
   "source": [
    "print(\"Accuracy: %0.2f (+/- %0.2f)\" % (scores.mean(), scores.std() * 2))"
   ]
  },
  {
   "cell_type": "code",
   "execution_count": null,
   "metadata": {
    "tags": []
   },
   "outputs": [],
   "source": [
    "# Another option is to use an iterable yielding (train, test) splits as arrays of indices\n",
    "# review iterator: to design a iterator and output 0 1 1 2 3 5 8 ...\n",
    "\n",
    "class fib_iterator:\n",
    "    def __iter__(self):\n",
    "        self.curr_num = 0\n",
    "        self.next_num = 1\n",
    "        return self\n",
    "    \n",
    "    def __next__(self):\n",
    "        if self.curr_num < 500:\n",
    "            x = self.curr_num\n",
    "            self.curr_num = self.next_num\n",
    "            self.next_num = self.curr_num + x\n",
    "            return x\n",
    "        else:\n",
    "            raise StopIteration\n",
    "    \n",
    "myiter = iter(fib_iterator())\n",
    "\n",
    "'''\n",
    "for x in myiter:\n",
    "    print(x)\n",
    "'''"
   ]
  },
  {
   "cell_type": "code",
   "execution_count": null,
   "metadata": {},
   "outputs": [],
   "source": []
  }
 ],
 "metadata": {
  "kernelspec": {
   "display_name": "Python 3",
   "language": "python",
   "name": "python3"
  },
  "language_info": {
   "codemirror_mode": {
    "name": "ipython",
    "version": 3
   },
   "file_extension": ".py",
   "mimetype": "text/x-python",
   "name": "python",
   "nbconvert_exporter": "python",
   "pygments_lexer": "ipython3",
   "version": "3.7.7-final"
  }
 },
 "nbformat": 4,
 "nbformat_minor": 4
}