{
 "cells": [
  {
   "cell_type": "code",
   "execution_count": 1,
   "metadata": {},
   "outputs": [],
   "source": [
    "import numpy as np\n",
    "import pandas as pd\n",
    "import matplotlib.pyplot as plt\n",
    "\n",
    "from sklearn import svm"
   ]
  },
  {
   "cell_type": "markdown",
   "metadata": {},
   "source": [
    "#### Read the dataset"
   ]
  },
  {
   "cell_type": "code",
   "execution_count": 2,
   "metadata": {},
   "outputs": [],
   "source": [
    "from sklearn.utils import shuffle\n",
    "df = pd.read_csv('APIC_ESTEE_LDA_SVM.csv')\n",
    "# df.dtypes\n",
    "np.random.seed(255)\n",
    "df = shuffle(df)"
   ]
  },
  {
   "cell_type": "code",
   "execution_count": 3,
   "metadata": {},
   "outputs": [],
   "source": [
    "# df.columns\n",
    "# select the features and outcomes for further analyses\n",
    "\n",
    "module1_df = df.loc[:, ['PM2.5_group', 'BC_group', 'mcp_1', 'leptin', 'PAI_1', 'TNFa']]\n",
    "module1_df.columns = ['PM2.5_Group', 'BC_group', 'MCP_1', 'leptin', 'PAI_1', 'TNF_a']\n",
    "\n",
    "module1_data = module1_df.loc[:, ['MCP_1', 'leptin', 'PAI_1', 'TNF_a']]\n",
    "module1_target = module1_df.loc[:, ['PM2.5_Group']]"
   ]
  },
  {
   "cell_type": "code",
   "execution_count": 4,
   "metadata": {},
   "outputs": [
    {
     "data": {
      "text/html": [
       "<div>\n",
       "<style scoped>\n",
       "    .dataframe tbody tr th:only-of-type {\n",
       "        vertical-align: middle;\n",
       "    }\n",
       "\n",
       "    .dataframe tbody tr th {\n",
       "        vertical-align: top;\n",
       "    }\n",
       "\n",
       "    .dataframe thead th {\n",
       "        text-align: right;\n",
       "    }\n",
       "</style>\n",
       "<table border=\"1\" class=\"dataframe\">\n",
       "  <thead>\n",
       "    <tr style=\"text-align: right;\">\n",
       "      <th></th>\n",
       "      <th>MCP_1</th>\n",
       "      <th>leptin</th>\n",
       "      <th>PAI_1</th>\n",
       "      <th>TNF_a</th>\n",
       "    </tr>\n",
       "  </thead>\n",
       "  <tbody>\n",
       "    <tr>\n",
       "      <th>93</th>\n",
       "      <td>-0.388082</td>\n",
       "      <td>1.515559</td>\n",
       "      <td>-0.718016</td>\n",
       "      <td>0.410662</td>\n",
       "    </tr>\n",
       "    <tr>\n",
       "      <th>88</th>\n",
       "      <td>-0.604970</td>\n",
       "      <td>0.188102</td>\n",
       "      <td>-0.930210</td>\n",
       "      <td>-0.509453</td>\n",
       "    </tr>\n",
       "    <tr>\n",
       "      <th>92</th>\n",
       "      <td>-0.948941</td>\n",
       "      <td>0.169406</td>\n",
       "      <td>-0.124870</td>\n",
       "      <td>-0.291531</td>\n",
       "    </tr>\n",
       "    <tr>\n",
       "      <th>39</th>\n",
       "      <td>0.859365</td>\n",
       "      <td>-0.560117</td>\n",
       "      <td>-0.026916</td>\n",
       "      <td>-0.243104</td>\n",
       "    </tr>\n",
       "    <tr>\n",
       "      <th>75</th>\n",
       "      <td>1.042365</td>\n",
       "      <td>0.350673</td>\n",
       "      <td>0.976587</td>\n",
       "      <td>-0.044553</td>\n",
       "    </tr>\n",
       "  </tbody>\n",
       "</table>\n",
       "</div>"
      ],
      "text/plain": [
       "       MCP_1    leptin     PAI_1     TNF_a\n",
       "93 -0.388082  1.515559 -0.718016  0.410662\n",
       "88 -0.604970  0.188102 -0.930210 -0.509453\n",
       "92 -0.948941  0.169406 -0.124870 -0.291531\n",
       "39  0.859365 -0.560117 -0.026916 -0.243104\n",
       "75  1.042365  0.350673  0.976587 -0.044553"
      ]
     },
     "execution_count": 4,
     "metadata": {},
     "output_type": "execute_result"
    }
   ],
   "source": [
    "# standarlize the module1_data\n",
    "def standarlize(arr):\n",
    "    arr_mean = np.mean(arr)\n",
    "    arr_sd = np.std(arr)\n",
    "    return (arr - arr_mean) / arr_sd\n",
    "\n",
    "# test_arr = np.array([1, 2, 3, 4, 5])\n",
    "# standarlize(test_arr)\n",
    "\n",
    "module1_data = module1_data.apply(standarlize, axis=0)\n",
    "module1_data.head()"
   ]
  },
  {
   "cell_type": "markdown",
   "metadata": {},
   "source": [
    "#### Try to SVM on module1_df: 10-fold cross-validation"
   ]
  },
  {
   "cell_type": "code",
   "execution_count": 5,
   "metadata": {},
   "outputs": [],
   "source": [
    "from sklearn.model_selection import train_test_split\n",
    "\n",
    "module1_data_train, module1_data_validate, module1_target_train, module1_target_test = train_test_split(module1_data, module1_target, test_size=0.4, random_state=0)"
   ]
  },
  {
   "cell_type": "code",
   "execution_count": 6,
   "metadata": {
    "tags": []
   },
   "outputs": [
    {
     "name": "stdout",
     "output_type": "stream",
     "text": [
      "(78, 4)    (78, 1)\n",
      "(52, 4)    (52, 1)\n"
     ]
    }
   ],
   "source": [
    "print(module1_data_train.shape, \"  \", module1_target_train.shape)\n",
    "print(module1_data_validate.shape, \"  \", module1_target_test.shape)"
   ]
  },
  {
   "cell_type": "code",
   "execution_count": 7,
   "metadata": {},
   "outputs": [
    {
     "data": {
      "text/plain": [
       "0.6730769230769231"
      ]
     },
     "execution_count": 7,
     "metadata": {},
     "output_type": "execute_result"
    }
   ],
   "source": [
    "# help(svm.SVC)\n",
    "# AND fit SVM with linear kernel\n",
    "\n",
    "# apic_svm = svm.SVC(kernel='linear', C=1).fit(module1_data_train, module1_target_train)\n",
    "# apic_svm.score(module1_data_validate, module1_target_test)\n",
    "# score : 0.61\n",
    "\n",
    "# we may change the kernel\n",
    "apic_svm = svm.SVC(kernel='sigmoid', C=1).fit(module1_data_train, np.ravel(module1_target_train))\n",
    "apic_svm.score(module1_data_validate, np.ravel(module1_target_test))"
   ]
  },
  {
   "cell_type": "code",
   "execution_count": 8,
   "metadata": {
    "tags": []
   },
   "outputs": [
    {
     "name": "stdout",
     "output_type": "stream",
     "text": [
      "[1 2 3 4 5 6]\n",
      "[1 2 3 4 5 6]\n"
     ]
    }
   ],
   "source": [
    "# have a try on ravel() and flatten()\n",
    "\n",
    "test_ravel = np.array([[1, 2, 3], [4, 5, 6]])\n",
    "print(test_ravel.ravel())\n",
    "print(test_ravel.flatten())"
   ]
  },
  {
   "cell_type": "code",
   "execution_count": 9,
   "metadata": {
    "tags": []
   },
   "outputs": [
    {
     "name": "stdout",
     "output_type": "stream",
     "text": [
      "Scores:  [0.73076923 0.69230769 0.73076923 0.69230769 0.73076923]\n"
     ]
    }
   ],
   "source": [
    "from sklearn.model_selection import cross_val_score\n",
    "\n",
    "apic_svm = svm.SVC(kernel='poly', C=1)\n",
    "\n",
    "# this is important\n",
    "scores = cross_val_score(apic_svm, module1_data, np.ravel(module1_target), cv=5, scoring='accuracy')\n",
    "print(\"Scores: \", scores)"
   ]
  },
  {
   "cell_type": "code",
   "execution_count": 10,
   "metadata": {
    "tags": []
   },
   "outputs": [
    {
     "name": "stdout",
     "output_type": "stream",
     "text": [
      "Accuracy: 0.72 (+/- 0.04)\n"
     ]
    }
   ],
   "source": [
    "print(\"Accuracy: %0.2f (+/- %0.2f)\" % (scores.mean(), scores.std() * 2))"
   ]
  },
  {
   "cell_type": "code",
   "execution_count": 11,
   "metadata": {
    "tags": []
   },
   "outputs": [
    {
     "data": {
      "text/plain": [
       "'\\nfor x in myiter:\\n    print(x)\\n'"
      ]
     },
     "execution_count": 11,
     "metadata": {},
     "output_type": "execute_result"
    }
   ],
   "source": [
    "# Another option is to use an iterable yielding (train, test) splits as arrays of indices\n",
    "# review iterator: to design a iterator and output 0 1 1 2 3 5 8 ...\n",
    "\n",
    "class fib_iterator:\n",
    "    def __iter__(self):\n",
    "        self.curr_num = 0\n",
    "        self.next_num = 1\n",
    "        return self\n",
    "    \n",
    "    def __next__(self):\n",
    "        if self.curr_num < 500:\n",
    "            x = self.curr_num\n",
    "            self.curr_num = self.next_num\n",
    "            self.next_num = self.curr_num + x\n",
    "            return x\n",
    "        else:\n",
    "            raise StopIteration\n",
    "    \n",
    "myiter = iter(fib_iterator())\n",
    "\n",
    "'''\n",
    "for x in myiter:\n",
    "    print(x)\n",
    "'''"
   ]
  },
  {
   "cell_type": "markdown",
   "metadata": {},
   "source": [
    "#### To apply LDA on the apic dataset"
   ]
  },
  {
   "cell_type": "code",
   "execution_count": 12,
   "metadata": {
    "tags": []
   },
   "outputs": [
    {
     "name": "stdout",
     "output_type": "stream",
     "text": [
      "(130, 4)\n",
      "[0 0 1 0 1 0 1 0 0 0 1 0 0 0 0 1 1 0 0 0 1 0 0 0 0 0 0 0 0 0 0 0 0 1 1 0 0\n",
      " 1 0 0 0 1 0 0 0 1 0 1 1 0 0 0 0 0 0 0 0 1 0 1 0 0 0 0 0 0 0 1 0 0 1 0 0 1\n",
      " 0 0 1 0 0 1 0 1 1 1 0 0 1 0 0 0 0 1 0 0 0 0 1 0 0 0 0 0 0 0 0 0 0 0 1 0 1\n",
      " 1 0 0 0 1 1 0 1 0 0 0 0 0 0 0 0 0 0 0]\n"
     ]
    }
   ],
   "source": [
    "# a review on the dataset\n",
    "print(module1_data.shape)\n",
    "type(module1_target)\n",
    "module1_target = np.ravel(module1_target)\n",
    "print(module1_target)"
   ]
  },
  {
   "cell_type": "code",
   "execution_count": 13,
   "metadata": {
    "tags": []
   },
   "outputs": [
    {
     "name": "stdout",
     "output_type": "stream",
     "text": [
      "[0.76923077 0.69230769 0.69230769 0.61538462 0.76923077 0.76923077\n",
      " 0.76923077 0.69230769 0.61538462 0.69230769]\n",
      "Mean of the score is 0.71 (+/- 0.06)\n"
     ]
    }
   ],
   "source": [
    "# apply 10-fold cross-validation on the apic dataset\n",
    "from sklearn.discriminant_analysis import LinearDiscriminantAnalysis as LDA\n",
    "import random\n",
    "random.seed(111)\n",
    "\n",
    "apic_lda = LDA(n_components=1, solver=\"svd\")\n",
    "\n",
    "scores = cross_val_score(apic_lda, module1_data, np.ravel(module1_target), cv=10, scoring='accuracy')\n",
    "print(scores)\n",
    "print(\"Mean of the score is %0.2f (+/- %0.2f)\" % (np.mean(scores), np.std(scores)))"
   ]
  },
  {
   "cell_type": "code",
   "execution_count": 14,
   "metadata": {
    "tags": []
   },
   "outputs": [
    {
     "name": "stdout",
     "output_type": "stream",
     "text": [
      "Index(['MCP_1', 'leptin', 'PAI_1', 'TNF_a'], dtype='object')\n",
      "[[ 0.2094876   0.36170297  0.04058519 -0.47559714]]\n"
     ]
    }
   ],
   "source": [
    "# try to get the parameters\n",
    "apic_lda_no_cv = LDA(n_components=1)\n",
    "apic_lda_no_cv.fit(module1_data, np.ravel(module1_target))\n",
    "apic_lda_no_cv.score(module1_data, np.ravel(module1_target))\n",
    "\n",
    "print(module1_data.columns)\n",
    "print(apic_lda_no_cv.coef_)"
   ]
  },
  {
   "cell_type": "code",
   "execution_count": 15,
   "metadata": {
    "tags": []
   },
   "outputs": [
    {
     "name": "stdout",
     "output_type": "stream",
     "text": [
      "Scores of SVM:  [0.73076923 0.69230769 0.73076923 0.69230769 0.73076923]\n",
      "Scores of LDA:  [0.73076923 0.65384615 0.76923077 0.73076923 0.73076923]\n",
      "Results of SVM is : 0.715+/-0.019\n",
      "Results of LDA is : 0.723+/-0.038\n",
      "Colnames :  Index(['MCP_1', 'leptin', 'PAI_1', 'TNF_a'], dtype='object')\n",
      "Coeff :  [[ 0.2094876   0.36170297  0.04058519 -0.47559714]]\n"
     ]
    }
   ],
   "source": [
    "# the function to analyze the apic-estee dataset by LDA and SVM\n",
    "# Obesity-inflammaiton to classify PM2.5\n",
    "\n",
    "from sklearn.svm import SVC\n",
    "from sklearn.discriminant_analysis import LinearDiscriminantAnalysis as LDA\n",
    "\n",
    "def apic_lda_vs_svm(training_set=module1_data, validation_set=module1_target, scoring='accuracy'):\n",
    "    temp_svm_model = SVC(kernel='poly', C=1)\n",
    "    temp_lda_model = LDA(solver='svd', n_components=1)\n",
    "    scores_svm = cross_val_score(temp_svm_model, training_set, np.ravel(validation_set), cv=5, scoring=scoring)\n",
    "    print(\"Scores of SVM: \", scores_svm)\n",
    "    scores_lda = cross_val_score(temp_lda_model, training_set, np.ravel(validation_set), cv=5, scoring=scoring)\n",
    "    print(\"Scores of LDA: \", scores_lda)\n",
    "    # print the results of the 2 models\n",
    "    print(\"Results of SVM is : {:.3f}+/-{:.3f}\".format(np.mean(scores_svm), np.std(scores_svm)))\n",
    "    print(\"Results of LDA is : {:.3f}+/-{:.3f}\".format(np.mean(scores_lda), np.std(scores_lda)))\n",
    "\n",
    "    apic_lda_no_cv = LDA(n_components=1)\n",
    "    apic_lda_no_cv.fit(training_set, np.ravel(validation_set))\n",
    "    print(\"Colnames : \", training_set.columns)\n",
    "    print(\"Coeff : \", apic_lda_no_cv.coef_)\n",
    "\n",
    "# apply func\n",
    "apic_lda_vs_svm(module1_data, module1_target)"
   ]
  },
  {
   "cell_type": "code",
   "execution_count": 16,
   "metadata": {
    "tags": []
   },
   "outputs": [
    {
     "name": "stdout",
     "output_type": "stream",
     "text": [
      "Scores of SVM:  [0.76923077 0.76923077 0.73076923 0.73076923 0.73076923]\n",
      "Scores of LDA:  [0.76923077 0.76923077 0.73076923 0.73076923 0.73076923]\n",
      "Results of SVM is : 0.746+/-0.019\n",
      "Results of LDA is : 0.746+/-0.019\n",
      "Colnames :  Index(['PLT', 'MPV', 'CD40L', 'p_selectin'], dtype='object')\n",
      "Coeff :  [[-0.08975294  0.04359842 -0.2168749  -0.34279018]]\n",
      "Scores of SVM:  [0.76923077 0.76923077 0.76923077 0.73076923 0.73076923]\n",
      "Scores of LDA:  [0.76923077 0.76923077 0.76923077 0.73076923 0.73076923]\n",
      "Results of SVM is : 0.754+/-0.019\n",
      "Results of LDA is : 0.754+/-0.019\n",
      "Colnames :  Index(['PLT', 'MPV', 'CD40L', 'p_selectin'], dtype='object')\n",
      "Coeff :  [[-0.08669557  0.13870304 -0.26207041 -0.41704979]]\n"
     ]
    }
   ],
   "source": [
    "# Platelet activation to classify PM2.5/BC\n",
    "df = pd.read_csv('APIC_ESTEE_LDA_SVM.csv')\n",
    "# print(df.columns)\n",
    "df = shuffle(df)\n",
    "\n",
    "module1_df = df.loc[:, ['PM2.5_group', 'BC_group', 'PLT', 'MPV', 'CD40L', 'p_selectin']]\n",
    "module1_df.columns = ['PM2.5_Group', 'BC_group', 'PLT', 'MPV', 'CD40L', 'p_selectin']\n",
    "\n",
    "module1_data = module1_df.loc[:, ['PLT', 'MPV', 'CD40L', 'p_selectin']]\n",
    "module1_target_pm = module1_df.loc[:, ['PM2.5_Group']]\n",
    "module1_target_bc = module1_df.loc[:, ['BC_group']]\n",
    "\n",
    "module1_data = module1_data.apply(standarlize, axis=0)\n",
    "\n",
    "apic_lda_vs_svm(module1_data, module1_target_pm)\n",
    "apic_lda_vs_svm(module1_data, module1_target_bc)"
   ]
  },
  {
   "cell_type": "code",
   "execution_count": 17,
   "metadata": {
    "tags": []
   },
   "outputs": [
    {
     "name": "stdout",
     "output_type": "stream",
     "text": [
      "Scores of SVM:  [0.76923077 0.76923077 0.73076923 0.80769231 0.73076923]\n",
      "Scores of LDA:  [0.76923077 0.76923077 0.76923077 0.76923077 0.65384615]\n",
      "Results of SVM is : 0.762+/-0.029\n",
      "Results of LDA is : 0.746+/-0.046\n",
      "Colnames :  Index(['c_peptide', 'HOMA_IR'], dtype='object')\n",
      "Coeff :  [[ 0.95544237 -0.67772451]]\n",
      "Scores of SVM:  [0.76923077 0.76923077 0.76923077 0.73076923 0.73076923]\n",
      "Scores of LDA:  [0.76923077 0.76923077 0.73076923 0.76923077 0.65384615]\n",
      "Results of SVM is : 0.754+/-0.019\n",
      "Results of LDA is : 0.738+/-0.045\n",
      "Colnames :  Index(['c_peptide', 'HOMA_IR'], dtype='object')\n",
      "Coeff :  [[ 0.76872365 -0.5378133 ]]\n"
     ]
    }
   ],
   "source": [
    "# Insulin resistance to classify PM2.5/BC\n",
    "df = pd.read_csv('APIC_ESTEE_LDA_SVM.csv')\n",
    "df = shuffle(df)\n",
    "\n",
    "module1_df = df.loc[:, ['PM2.5_group', 'BC_group', 'c_peptide', 'HOMA_IR']]\n",
    "module1_df.columns = ['PM2.5_Group', 'BC_group', 'c_peptide', 'HOMA_IR']\n",
    "\n",
    "module1_data = module1_df.loc[:, ['c_peptide', 'HOMA_IR']]\n",
    "module1_target_pm = module1_df.loc[:, ['PM2.5_Group']]\n",
    "module1_target_bc = module1_df.loc[:, ['BC_group']]\n",
    "\n",
    "module1_data = module1_data.apply(standarlize, axis=0)\n",
    "\n",
    "apic_lda_vs_svm(module1_data, module1_target_pm)\n",
    "apic_lda_vs_svm(module1_data, module1_target_bc)"
   ]
  }
 ],
 "metadata": {
  "kernelspec": {
   "display_name": "Python 3",
   "language": "python",
   "name": "python3"
  },
  "language_info": {
   "codemirror_mode": {
    "name": "ipython",
    "version": 3
   },
   "file_extension": ".py",
   "mimetype": "text/x-python",
   "name": "python",
   "nbconvert_exporter": "python",
   "pygments_lexer": "ipython3",
   "version": "3.7.7"
  }
 },
 "nbformat": 4,
 "nbformat_minor": 4
}
